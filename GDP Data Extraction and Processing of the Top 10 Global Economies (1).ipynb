{
 "cells": [
  {
   "cell_type": "markdown",
   "id": "1bf1c61e",
   "metadata": {},
   "source": [
    "# GDP Data Extraction and Processing of the Top 10 Global Economies"
   ]
  },
  {
   "cell_type": "markdown",
   "id": "2edba48d",
   "metadata": {},
   "source": [
    "The goal of this project is to build an automated Python-based data pipeline that:\n",
    "- Extracts real-world GDP data from a live (archived) Wikipedia source using web scraping.\n",
    "- Processes and cleans the data using pandas and numpy to isolate the top 10 largest global economies, ranked by nominal GDP (as estimated by the IMF).\n",
    "- Converts and standardizes the values from million USD to billion USD, rounded to two decimal places for consistency.\n",
    "- Exports the final data into a structured CSV file (Largest_economies.csv) for future use in analytics or business intelligence.\n",
    "\n",
    "This script is part of a broader effort to support data-driven market entry analysis for a multinational firm seeking global expansion."
   ]
  },
  {
   "cell_type": "markdown",
   "id": "560630d2",
   "metadata": {},
   "source": [
    "## 1. Web Scraping using Numpy & Pandas"
   ]
  },
  {
   "cell_type": "code",
   "execution_count": 32,
   "id": "29f5a7b7",
   "metadata": {},
   "outputs": [],
   "source": [
    "# Import Libraries\n",
    "import numpy as np \n",
    "import pandas as pd\n",
    "import warnings\n",
    "warnings.filterwarnings('ignore')  # Suppress warnings"
   ]
  },
  {
   "cell_type": "markdown",
   "id": "66e07754",
   "metadata": {},
   "source": [
    "- Extract the required GDP data from the given URL using Web Scraping."
   ]
  },
  {
   "cell_type": "code",
   "execution_count": 33,
   "id": "54eba99f",
   "metadata": {},
   "outputs": [],
   "source": [
    "# Load the archived Wikipedia page\n",
    "URL = \"https://web.archive.org/web/20230902185326/https://en.wikipedia.org/wiki/List_of_countries_by_GDP_%28nominal%29\"\n",
    "tables = pd.read_html(URL)"
   ]
  },
  {
   "cell_type": "markdown",
   "id": "553d7b86",
   "metadata": {},
   "source": [
    "- Select Target Table which contains nominal GDP data by country.\n",
    "- Check the table structure using .shape and .head() to confirm column indexes."
   ]
  },
  {
   "cell_type": "code",
   "execution_count": 34,
   "id": "823a9231",
   "metadata": {
    "scrolled": true
   },
   "outputs": [
    {
     "name": "stdout",
     "output_type": "stream",
     "text": [
      "Columns: MultiIndex([( 'Country/Territory', 'Country/Territory'),\n",
      "            (         'UN region',         'UN region'),\n",
      "            (        'IMF[1][13]',          'Estimate'),\n",
      "            (        'IMF[1][13]',              'Year'),\n",
      "            (    'World Bank[14]',          'Estimate'),\n",
      "            (    'World Bank[14]',              'Year'),\n",
      "            ('United Nations[15]',          'Estimate'),\n",
      "            ('United Nations[15]',              'Year')],\n",
      "           )\n",
      "  Country/Territory UN region IMF[1][13]            World Bank[14]             \\\n",
      "  Country/Territory UN region   Estimate       Year       Estimate       Year   \n",
      "0             World         —  105568776       2023      100562011       2022   \n",
      "1     United States  Americas   26854599       2023       25462700       2022   \n",
      "2             China      Asia   19373586  [n 1]2023       17963171  [n 3]2022   \n",
      "3             Japan      Asia    4409738       2023        4231141       2022   \n",
      "4           Germany    Europe    4308854       2023        4072192       2022   \n",
      "\n",
      "  United Nations[15]             \n",
      "            Estimate       Year  \n",
      "0           96698005       2021  \n",
      "1           23315081       2021  \n",
      "2           17734131  [n 1]2021  \n",
      "3            4940878       2021  \n",
      "4            4259935       2021  \n"
     ]
    }
   ],
   "source": [
    "# Preview structure of the 4th table (index 3)\n",
    "df = tables[3]\n",
    "print(\"Columns:\", df.columns)\n",
    "print(df.head())"
   ]
  },
  {
   "cell_type": "code",
   "execution_count": 35,
   "id": "fcffafa2",
   "metadata": {},
   "outputs": [
    {
     "name": "stdout",
     "output_type": "stream",
     "text": [
      "Shape: (214, 8)\n"
     ]
    }
   ],
   "source": [
    "# Replace the column headers with column numbers\n",
    "df.columns = range(df.shape[1])\n",
    "print(\"Shape:\", df.shape)  # Check column count"
   ]
  },
  {
   "cell_type": "markdown",
   "id": "b85584be",
   "metadata": {},
   "source": [
    "- Keep only the country name and IMF GDP value columns \n",
    "- Retain rows 1 to 10 to get the top 10 largest economies."
   ]
  },
  {
   "cell_type": "code",
   "execution_count": 36,
   "id": "d63c48ee",
   "metadata": {},
   "outputs": [
    {
     "data": {
      "text/html": [
       "<div>\n",
       "<style scoped>\n",
       "    .dataframe tbody tr th:only-of-type {\n",
       "        vertical-align: middle;\n",
       "    }\n",
       "\n",
       "    .dataframe tbody tr th {\n",
       "        vertical-align: top;\n",
       "    }\n",
       "\n",
       "    .dataframe thead th {\n",
       "        text-align: right;\n",
       "    }\n",
       "</style>\n",
       "<table border=\"1\" class=\"dataframe\">\n",
       "  <thead>\n",
       "    <tr style=\"text-align: right;\">\n",
       "      <th></th>\n",
       "      <th>Country</th>\n",
       "      <th>GDP (Million USD)</th>\n",
       "    </tr>\n",
       "  </thead>\n",
       "  <tbody>\n",
       "    <tr>\n",
       "      <th>1</th>\n",
       "      <td>United States</td>\n",
       "      <td>26854599</td>\n",
       "    </tr>\n",
       "    <tr>\n",
       "      <th>2</th>\n",
       "      <td>China</td>\n",
       "      <td>19373586</td>\n",
       "    </tr>\n",
       "    <tr>\n",
       "      <th>3</th>\n",
       "      <td>Japan</td>\n",
       "      <td>4409738</td>\n",
       "    </tr>\n",
       "    <tr>\n",
       "      <th>4</th>\n",
       "      <td>Germany</td>\n",
       "      <td>4308854</td>\n",
       "    </tr>\n",
       "    <tr>\n",
       "      <th>5</th>\n",
       "      <td>India</td>\n",
       "      <td>3736882</td>\n",
       "    </tr>\n",
       "    <tr>\n",
       "      <th>6</th>\n",
       "      <td>United Kingdom</td>\n",
       "      <td>3158938</td>\n",
       "    </tr>\n",
       "    <tr>\n",
       "      <th>7</th>\n",
       "      <td>France</td>\n",
       "      <td>2923489</td>\n",
       "    </tr>\n",
       "    <tr>\n",
       "      <th>8</th>\n",
       "      <td>Italy</td>\n",
       "      <td>2169745</td>\n",
       "    </tr>\n",
       "    <tr>\n",
       "      <th>9</th>\n",
       "      <td>Canada</td>\n",
       "      <td>2089672</td>\n",
       "    </tr>\n",
       "    <tr>\n",
       "      <th>10</th>\n",
       "      <td>Brazil</td>\n",
       "      <td>2081235</td>\n",
       "    </tr>\n",
       "  </tbody>\n",
       "</table>\n",
       "</div>"
      ],
      "text/plain": [
       "           Country GDP (Million USD)\n",
       "1    United States          26854599\n",
       "2            China          19373586\n",
       "3            Japan           4409738\n",
       "4          Germany           4308854\n",
       "5            India           3736882\n",
       "6   United Kingdom           3158938\n",
       "7           France           2923489\n",
       "8            Italy           2169745\n",
       "9           Canada           2089672\n",
       "10          Brazil           2081235"
      ]
     },
     "execution_count": 36,
     "metadata": {},
     "output_type": "execute_result"
    }
   ],
   "source": [
    "# Retain columns with index 0 and 2 (name of country and value of GDP quoted by IMF)\n",
    "df = df[[0,2]]\n",
    "\n",
    "# Retain the Rows with index 1 to 10, indicating the top 10 economies of the world.\n",
    "df = df.iloc[1:11,:]\n",
    "\n",
    "# Assign column names as \"Country\" and \"GDP (Million USD)\"\n",
    "df.columns = ['Country', 'GDP (Million USD)']\n",
    "\n",
    "# Display result\n",
    "df"
   ]
  },
  {
   "cell_type": "markdown",
   "id": "18bfedbf",
   "metadata": {},
   "source": [
    "- Change GDP values to integers to allow numerical operations.\n",
    "- Convert to Billions: Divide GDP by 1000 to convert from million to billion USD."
   ]
  },
  {
   "cell_type": "code",
   "execution_count": 37,
   "id": "63aedb6b",
   "metadata": {},
   "outputs": [
    {
     "data": {
      "text/html": [
       "<div>\n",
       "<style scoped>\n",
       "    .dataframe tbody tr th:only-of-type {\n",
       "        vertical-align: middle;\n",
       "    }\n",
       "\n",
       "    .dataframe tbody tr th {\n",
       "        vertical-align: top;\n",
       "    }\n",
       "\n",
       "    .dataframe thead th {\n",
       "        text-align: right;\n",
       "    }\n",
       "</style>\n",
       "<table border=\"1\" class=\"dataframe\">\n",
       "  <thead>\n",
       "    <tr style=\"text-align: right;\">\n",
       "      <th></th>\n",
       "      <th>Country</th>\n",
       "      <th>GDP (Billion USD)</th>\n",
       "    </tr>\n",
       "  </thead>\n",
       "  <tbody>\n",
       "    <tr>\n",
       "      <th>1</th>\n",
       "      <td>United States</td>\n",
       "      <td>26854.60</td>\n",
       "    </tr>\n",
       "    <tr>\n",
       "      <th>2</th>\n",
       "      <td>China</td>\n",
       "      <td>19373.59</td>\n",
       "    </tr>\n",
       "    <tr>\n",
       "      <th>3</th>\n",
       "      <td>Japan</td>\n",
       "      <td>4409.74</td>\n",
       "    </tr>\n",
       "    <tr>\n",
       "      <th>4</th>\n",
       "      <td>Germany</td>\n",
       "      <td>4308.85</td>\n",
       "    </tr>\n",
       "    <tr>\n",
       "      <th>5</th>\n",
       "      <td>India</td>\n",
       "      <td>3736.88</td>\n",
       "    </tr>\n",
       "    <tr>\n",
       "      <th>6</th>\n",
       "      <td>United Kingdom</td>\n",
       "      <td>3158.94</td>\n",
       "    </tr>\n",
       "    <tr>\n",
       "      <th>7</th>\n",
       "      <td>France</td>\n",
       "      <td>2923.49</td>\n",
       "    </tr>\n",
       "    <tr>\n",
       "      <th>8</th>\n",
       "      <td>Italy</td>\n",
       "      <td>2169.74</td>\n",
       "    </tr>\n",
       "    <tr>\n",
       "      <th>9</th>\n",
       "      <td>Canada</td>\n",
       "      <td>2089.67</td>\n",
       "    </tr>\n",
       "    <tr>\n",
       "      <th>10</th>\n",
       "      <td>Brazil</td>\n",
       "      <td>2081.24</td>\n",
       "    </tr>\n",
       "  </tbody>\n",
       "</table>\n",
       "</div>"
      ],
      "text/plain": [
       "           Country  GDP (Billion USD)\n",
       "1    United States           26854.60\n",
       "2            China           19373.59\n",
       "3            Japan            4409.74\n",
       "4          Germany            4308.85\n",
       "5            India            3736.88\n",
       "6   United Kingdom            3158.94\n",
       "7           France            2923.49\n",
       "8            Italy            2169.74\n",
       "9           Canada            2089.67\n",
       "10          Brazil            2081.24"
      ]
     },
     "execution_count": 37,
     "metadata": {},
     "output_type": "execute_result"
    }
   ],
   "source": [
    "# Change the data type of the 'GDP (Million USD)' column to integer\n",
    "df['GDP (Million USD)'] = df['GDP (Million USD)'].astype(int)\n",
    "\n",
    "# Convert the GDP value from Million USD to Billion USD\n",
    "df[['GDP (Million USD)']] = df[['GDP (Million USD)']]/1000\n",
    "\n",
    "# Round the value to 2 decimal places\n",
    "df[['GDP (Million USD)']] = np.round(df[['GDP (Million USD)']], 2)\n",
    "\n",
    "# Rename the column header from 'GDP (Million USD)' to 'GDP (Billion USD)'\n",
    "df. rename (columns = {'GDP (Million USD)' : 'GDP (Billion USD)'})"
   ]
  },
  {
   "cell_type": "markdown",
   "id": "eebc278a",
   "metadata": {},
   "source": [
    "- Save the final DataFrame to a CSV file named Largest_economies.csv."
   ]
  },
  {
   "cell_type": "code",
   "execution_count": 38,
   "id": "906446d1",
   "metadata": {},
   "outputs": [],
   "source": [
    "# Load the DataFrame to the CSV file named \"Largest_economies.csv\"\n",
    "df.to_csv('Largest_economies.csv', index=False)"
   ]
  },
  {
   "cell_type": "markdown",
   "id": "9ae91ed6",
   "metadata": {},
   "source": [
    "## 2. Webscraping using Requests, BeautifulSoup & Pandas\n",
    "\n",
    "This task demonstrates how to extract and clean structured data from a web page (Wikipedia GDP table) using Python’s web scraping tools — specifically requests, BeautifulSoup, and pandas."
   ]
  },
  {
   "cell_type": "markdown",
   "id": "23bdd8d5",
   "metadata": {},
   "source": [
    "from bs4 import BeautifulSoup\n",
    "import requests\n",
    "import pandas as pd\n",
    "import numpy as np\n",
    "import sqlite3\n",
    "from datetime import datetime "
   ]
  },
  {
   "cell_type": "code",
   "execution_count": 42,
   "id": "11cf422b",
   "metadata": {},
   "outputs": [],
   "source": [
    "from bs4 import BeautifulSoup\n",
    "import requests\n",
    "import pandas as pd\n",
    "import numpy as np\n",
    "import sqlite3\n",
    "from datetime import datetime "
   ]
  },
  {
   "cell_type": "code",
   "execution_count": 43,
   "id": "c42d5d70",
   "metadata": {},
   "outputs": [
    {
     "data": {
      "text/plain": [
       "'https://web.archive.org/web/20230902185326/https://en.wikipedia.org/wiki/List_of_countries_by_GDP_%28nominal%29'"
      ]
     },
     "execution_count": 43,
     "metadata": {},
     "output_type": "execute_result"
    }
   ],
   "source": [
    "'https://web.archive.org/web/20230902185326/https://en.wikipedia.org/wiki/List_of_countries_by_GDP_%28nominal%29'"
   ]
  },
  {
   "cell_type": "code",
   "execution_count": 44,
   "id": "0e0da530",
   "metadata": {},
   "outputs": [],
   "source": [
    "url = 'https://web.archive.org/web/20230902185326/https://en.wikipedia.org/wiki/List_of_countries_by_GDP_%28nominal%29'\n",
    "table_attribs = [\"Country\", \"GDP_USD_millions\"]\n",
    "db_name = 'World_Economies.db'\n",
    "table_name = 'Countries_by_GDP'\n",
    "csv_path = '/Users/zakariyaboutayeb/Documents/12. IBM /02. Data Engineering/Countries_by_GDP.csv'"
   ]
  },
  {
   "cell_type": "markdown",
   "id": "8e03804a",
   "metadata": {},
   "source": [
    "### Extracting information\n",
    "\n"
   ]
  },
  {
   "cell_type": "code",
   "execution_count": 45,
   "id": "586b1f4e",
   "metadata": {},
   "outputs": [],
   "source": [
    "def extract(url, table_attribs):\n",
    "    page = requests.get(url).text\n",
    "    data = BeautifulSoup(page,'html.parser')\n",
    "    df = pd.DataFrame(columns=table_attribs)\n",
    "    tables = data.find_all('tbody')\n",
    "    rows = tables[2].find_all('tr')\n",
    "    for row in rows:\n",
    "        col = row.find_all('td')\n",
    "        if len(col)!=0:\n",
    "            if col[0].find('a') is not None and '—' not in col[2]:\n",
    "                data_dict = {\"Country\": col[0].a.contents[0],\n",
    "                             \"GDP_USD_millions\": col[2].contents[0]}\n",
    "                df1 = pd.DataFrame(data_dict, index=[0])\n",
    "                df = pd.concat([df,df1], ignore_index=True)\n",
    "    return df"
   ]
  },
  {
   "cell_type": "code",
   "execution_count": 46,
   "id": "8c022468",
   "metadata": {},
   "outputs": [
    {
     "data": {
      "text/html": [
       "<div>\n",
       "<style scoped>\n",
       "    .dataframe tbody tr th:only-of-type {\n",
       "        vertical-align: middle;\n",
       "    }\n",
       "\n",
       "    .dataframe tbody tr th {\n",
       "        vertical-align: top;\n",
       "    }\n",
       "\n",
       "    .dataframe thead th {\n",
       "        text-align: right;\n",
       "    }\n",
       "</style>\n",
       "<table border=\"1\" class=\"dataframe\">\n",
       "  <thead>\n",
       "    <tr style=\"text-align: right;\">\n",
       "      <th></th>\n",
       "      <th>Country</th>\n",
       "      <th>GDP_USD_millions</th>\n",
       "    </tr>\n",
       "  </thead>\n",
       "  <tbody>\n",
       "    <tr>\n",
       "      <th>0</th>\n",
       "      <td>United States</td>\n",
       "      <td>26,854,599</td>\n",
       "    </tr>\n",
       "    <tr>\n",
       "      <th>1</th>\n",
       "      <td>China</td>\n",
       "      <td>19,373,586</td>\n",
       "    </tr>\n",
       "    <tr>\n",
       "      <th>2</th>\n",
       "      <td>Japan</td>\n",
       "      <td>4,409,738</td>\n",
       "    </tr>\n",
       "    <tr>\n",
       "      <th>3</th>\n",
       "      <td>Germany</td>\n",
       "      <td>4,308,854</td>\n",
       "    </tr>\n",
       "    <tr>\n",
       "      <th>4</th>\n",
       "      <td>India</td>\n",
       "      <td>3,736,882</td>\n",
       "    </tr>\n",
       "  </tbody>\n",
       "</table>\n",
       "</div>"
      ],
      "text/plain": [
       "         Country GDP_USD_millions\n",
       "0  United States       26,854,599\n",
       "1          China       19,373,586\n",
       "2          Japan        4,409,738\n",
       "3        Germany        4,308,854\n",
       "4          India        3,736,882"
      ]
     },
     "execution_count": 46,
     "metadata": {},
     "output_type": "execute_result"
    }
   ],
   "source": [
    "df = extract(url, table_attribs)\n",
    "df.head()"
   ]
  },
  {
   "cell_type": "markdown",
   "id": "431d098c",
   "metadata": {},
   "source": [
    "## Transform information\n",
    "\n",
    "This task focuses on cleaning and transforming the GDP values extracted in Task 1 to prepare them for analysis.\n",
    "\n",
    "- Convert the contents of the 'GDP_USD_millions' column of df\n",
    "dataframe from currency format to floating numbers.\n",
    "- Divide all these values by 1000 and round it to 2 decimal places.\n",
    "- Modify the name of the column from 'GDP_USD_millions' to\n",
    "'GDP_USD_billions'."
   ]
  },
  {
   "cell_type": "code",
   "execution_count": 47,
   "id": "996a70e9",
   "metadata": {},
   "outputs": [],
   "source": [
    "def transform(df):\n",
    "    # Convert millions to billions and round to 2 decimal places\n",
    "    GDP_list = df[\"GDP (Million USD)\"].tolist()\n",
    "    GDP_list = [np.round(x / 1000, 2) for x in GDP_list]\n",
    "\n",
    "    # Replace column and rename it\n",
    "    df[\"GDP (Million USD)\"] = GDP_list\n",
    "    df = df.rename(columns={\"GDP (Million USD)\": \"GDP_USD_billions\"})\n",
    "\n",
    "    return df"
   ]
  },
  {
   "cell_type": "code",
   "execution_count": 48,
   "id": "1dcc2ba7",
   "metadata": {},
   "outputs": [
    {
     "name": "stdout",
     "output_type": "stream",
     "text": [
      "['Country', 'GDP_USD_millions']\n"
     ]
    }
   ],
   "source": [
    "print(df.columns.tolist())"
   ]
  },
  {
   "cell_type": "code",
   "execution_count": 49,
   "id": "3ad45df1",
   "metadata": {},
   "outputs": [],
   "source": [
    "def transform(df):\n",
    "    # Auto-detect column with 'GDP'\n",
    "    gdp_col = [col for col in df.columns if 'GDP' in col][0]\n",
    "\n",
    "    # Just round (no division)\n",
    "    df[gdp_col] = np.round(df[gdp_col], 2)\n",
    "\n",
    "    # Rename column\n",
    "    df = df.rename(columns={gdp_col: \"GDP_USD_billions\"})\n",
    "    \n",
    "    return df"
   ]
  },
  {
   "cell_type": "markdown",
   "id": "ebdc1c39",
   "metadata": {},
   "source": [
    "df = transform(df)\n",
    "df"
   ]
  },
  {
   "cell_type": "markdown",
   "id": "0856062b",
   "metadata": {},
   "source": [
    "### Loading Information\n"
   ]
  },
  {
   "cell_type": "markdown",
   "id": "7f1e3807",
   "metadata": {},
   "source": [
    "Save the pandas DataFrame to a CSV (Comma-Separated Values) file. A file named Countries_by_GDP.csv is already created as well as a database called db_name = 'World_Economies.db'"
   ]
  },
  {
   "cell_type": "code",
   "execution_count": 55,
   "id": "e22decea",
   "metadata": {},
   "outputs": [],
   "source": [
    "def load_to_csv(df, csv_path):\n",
    "    df.to_csv(csv_path)"
   ]
  },
  {
   "cell_type": "markdown",
   "id": "8bd8aab6",
   "metadata": {},
   "source": [
    "Next step is to save the dataFrame (df) to a table in a SQL database in order it can be queried using SQL."
   ]
  },
  {
   "cell_type": "code",
   "execution_count": 56,
   "id": "920aade0",
   "metadata": {},
   "outputs": [],
   "source": [
    "def load_to_db(df, sql_connection, table_name):\n",
    "    df.to_sql(table_name, sql_connection, if_exists='replace', index=False)"
   ]
  },
  {
   "cell_type": "markdown",
   "id": "86c5f35d",
   "metadata": {},
   "source": [
    "### Querying the database table"
   ]
  },
  {
   "cell_type": "markdown",
   "id": "6f3cae67",
   "metadata": {},
   "source": [
    "Let's run a SQL query on a database and display the results.We need to create a database connection first using SQLite."
   ]
  },
  {
   "cell_type": "code",
   "execution_count": 57,
   "id": "099d3d31",
   "metadata": {},
   "outputs": [],
   "source": [
    "def run_query(query_statement, sql_connection):\n",
    "    print(query_statement)\n",
    "    query_output = pd.read_sql(query_statement, sql_connection)\n",
    "    print(query_output)"
   ]
  },
  {
   "cell_type": "code",
   "execution_count": 58,
   "id": "86b28777",
   "metadata": {},
   "outputs": [
    {
     "name": "stdout",
     "output_type": "stream",
     "text": [
      "SELECT * FROM Countries_by_GDP LIMIT 5;\n",
      "         Country GDP_USD_millions\n",
      "0  United States       26,854,599\n",
      "1          China       19,373,586\n",
      "2          Japan        4,409,738\n",
      "3        Germany        4,308,854\n",
      "4          India        3,736,882\n"
     ]
    }
   ],
   "source": [
    "import sqlite3\n",
    "\n",
    "# Connect to database \n",
    "conn = sqlite3.connect(\"World_Economies.db\")\n",
    "\n",
    "# Load DataFrame into database as table\n",
    "df.to_sql(\"Countries_by_GDP\", conn, if_exists='replace', index=False)\n",
    "\n",
    "# Run the query\n",
    "query = \"SELECT * FROM Countries_by_GDP LIMIT 5;\"\n",
    "run_query(query, conn)\n",
    "\n",
    "# Optional: Close connection\n",
    "conn.close()"
   ]
  },
  {
   "cell_type": "markdown",
   "id": "ca63b9ea",
   "metadata": {},
   "source": [
    "### Logging Progress\n",
    "\n",
    "Logs a message with a timestamp to a text file called etl_project_log.txt. It’s used in ETL (Extract, Transform, Load) pipelines to track the progress of different steps."
   ]
  },
  {
   "cell_type": "code",
   "execution_count": 62,
   "id": "e1cbbcf9",
   "metadata": {},
   "outputs": [],
   "source": [
    "def log_progress(message): \n",
    "    timestamp_format = '%Y-%h-%d-%H:%M:%S' # Year-Monthname-Day-Hour-Minute-Second \n",
    "    now = datetime.now() # get current timestamp \n",
    "    timestamp = now.strftime(timestamp_format) \n",
    "    with open(\"/Users/zakariyaboutayeb/Documents/12. IBM /02. Data Engineering/etl_project_log.txt\",\"a\") as f: \n",
    "        f.write(timestamp + ' : ' + message + '\\n')"
   ]
  },
  {
   "cell_type": "code",
   "execution_count": 63,
   "id": "9094aac3",
   "metadata": {},
   "outputs": [],
   "source": [
    "log_progress(\"Loaded data into SQL database\")\n",
    "log_progress(\"Extracted GDP data from Wikipedia\")"
   ]
  },
  {
   "cell_type": "markdown",
   "id": "bbe720ce",
   "metadata": {},
   "source": [
    "### Function Calls\n",
    "\n",
    "Let's outlines a complete ETL (Extract, Transform, Load) process with logging. Each line of code plays a specific role in tracking, transforming, saving, and querying data."
   ]
  },
  {
   "cell_type": "code",
   "execution_count": 65,
   "id": "e0250dd4",
   "metadata": {},
   "outputs": [
    {
     "name": "stdout",
     "output_type": "stream",
     "text": [
      "SELECT * from Countries_by_GDP WHERE GDP_USD_billions >= 100\n",
      "              Country GDP_USD_billions\n",
      "0       United States       26,854,599\n",
      "1               China       19,373,586\n",
      "2               Japan        4,409,738\n",
      "3             Germany        4,308,854\n",
      "4               India        3,736,882\n",
      "..                ...              ...\n",
      "166  Marshall Islands              291\n",
      "167             Palau              262\n",
      "168          Kiribati              248\n",
      "169             Nauru              151\n",
      "170            Tuvalu               65\n",
      "\n",
      "[171 rows x 2 columns]\n"
     ]
    }
   ],
   "source": [
    "# Logs the start of the ETL pipeline to a text file for monitoring/debugging\n",
    "log_progress('Preliminaries complete. Initiating ETL process')\n",
    "\n",
    "# Extracts data from a webpage using the extract() function\n",
    "df = extract(url, table_attribs)\n",
    "\n",
    "# Logs the completion of extraction and start of transformation\n",
    "log_progress('Data extraction complete. Initiating Transformation process')\n",
    "\n",
    "# Transforms the data and loading it\n",
    "df = transform(df)\n",
    "log_progress('Data transformation complete. Initiating loading process')\n",
    "\n",
    "# Save the transformed data to a CSV file on disk and log it\n",
    "load_to_csv(df, csv_path)\n",
    "log_progress('Data saved to CSV file')\n",
    "\n",
    "# Creates SQLite database called World_Economies.db and log it\n",
    "sql_connection = sqlite3.connect('World_Economies.db')\n",
    "log_progress('SQL Connection initiated.')\n",
    "\n",
    "# Load the df DataFrame into a SQL table named table_name and log it\n",
    "load_to_db(df, sql_connection, table_name)\n",
    "log_progress('Data loaded to Database as table. Running the query')\n",
    "\n",
    "# Define and execute a SQL filter query\n",
    "query_statement = f\"SELECT * from {table_name} WHERE GDP_USD_billions >= 100\"\n",
    "run_query(query_statement, sql_connection)\n",
    "\n",
    "log_progress('Process Complete.')\n",
    "\n",
    "sql_connection.close()"
   ]
  },
  {
   "cell_type": "code",
   "execution_count": null,
   "id": "0cee6a34",
   "metadata": {},
   "outputs": [],
   "source": []
  },
  {
   "cell_type": "code",
   "execution_count": null,
   "id": "0570a039",
   "metadata": {},
   "outputs": [],
   "source": []
  },
  {
   "cell_type": "code",
   "execution_count": null,
   "id": "63e7bfaf",
   "metadata": {},
   "outputs": [],
   "source": []
  },
  {
   "cell_type": "code",
   "execution_count": null,
   "id": "8fd9df6e",
   "metadata": {},
   "outputs": [],
   "source": []
  },
  {
   "cell_type": "code",
   "execution_count": null,
   "id": "35261c49",
   "metadata": {},
   "outputs": [],
   "source": []
  },
  {
   "cell_type": "code",
   "execution_count": null,
   "id": "14eda44c",
   "metadata": {},
   "outputs": [],
   "source": []
  }
 ],
 "metadata": {
  "kernelspec": {
   "display_name": "Python 3 (ipykernel)",
   "language": "python",
   "name": "python3"
  },
  "language_info": {
   "codemirror_mode": {
    "name": "ipython",
    "version": 3
   },
   "file_extension": ".py",
   "mimetype": "text/x-python",
   "name": "python",
   "nbconvert_exporter": "python",
   "pygments_lexer": "ipython3",
   "version": "3.10.9"
  }
 },
 "nbformat": 4,
 "nbformat_minor": 5
}
