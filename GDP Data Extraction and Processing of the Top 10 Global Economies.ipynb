{
 "cells": [
  {
   "cell_type": "markdown",
   "id": "1bf1c61e",
   "metadata": {},
   "source": [
    "# GDP Data Extraction and Processing of the Top 10 Global Economies"
   ]
  },
  {
   "cell_type": "markdown",
   "id": "2edba48d",
   "metadata": {},
   "source": [
    "The goal of this project is to build an automated Python-based data pipeline that:\n",
    "- Extracts real-world GDP data from a live (archived) Wikipedia source using web scraping.\n",
    "- Processes and cleans the data using pandas and numpy to isolate the top 10 largest global economies, ranked by nominal GDP (as estimated by the IMF).\n",
    "- Converts and standardizes the values from million USD to billion USD, rounded to two decimal places for consistency.\n",
    "- Exports the final data into a structured CSV file (Largest_economies.csv) for future use in analytics or business intelligence.\n",
    "\n",
    "This script is part of a broader effort to support data-driven market entry analysis for a multinational firm seeking global expansion."
   ]
  },
  {
   "cell_type": "code",
   "execution_count": 32,
   "id": "29f5a7b7",
   "metadata": {},
   "outputs": [],
   "source": [
    "# Import Libraries\n",
    "import numpy as np \n",
    "import pandas as pd\n",
    "import warnings\n",
    "warnings.filterwarnings('ignore')  # Suppress warnings"
   ]
  },
  {
   "cell_type": "markdown",
   "id": "66e07754",
   "metadata": {},
   "source": [
    "- Extract the required GDP data from the given URL using Web Scraping."
   ]
  },
  {
   "cell_type": "code",
   "execution_count": 33,
   "id": "54eba99f",
   "metadata": {},
   "outputs": [],
   "source": [
    "# Load the archived Wikipedia page\n",
    "URL = \"https://web.archive.org/web/20230902185326/https://en.wikipedia.org/wiki/List_of_countries_by_GDP_%28nominal%29\"\n",
    "tables = pd.read_html(URL)"
   ]
  },
  {
   "cell_type": "markdown",
   "id": "553d7b86",
   "metadata": {},
   "source": [
    "- Select Target Table which contains nominal GDP data by country.\n",
    "- Check the table structure using .shape and .head() to confirm column indexes."
   ]
  },
  {
   "cell_type": "code",
   "execution_count": 34,
   "id": "823a9231",
   "metadata": {
    "scrolled": true
   },
   "outputs": [
    {
     "name": "stdout",
     "output_type": "stream",
     "text": [
      "Columns: MultiIndex([( 'Country/Territory', 'Country/Territory'),\n",
      "            (         'UN region',         'UN region'),\n",
      "            (        'IMF[1][13]',          'Estimate'),\n",
      "            (        'IMF[1][13]',              'Year'),\n",
      "            (    'World Bank[14]',          'Estimate'),\n",
      "            (    'World Bank[14]',              'Year'),\n",
      "            ('United Nations[15]',          'Estimate'),\n",
      "            ('United Nations[15]',              'Year')],\n",
      "           )\n",
      "  Country/Territory UN region IMF[1][13]            World Bank[14]             \\\n",
      "  Country/Territory UN region   Estimate       Year       Estimate       Year   \n",
      "0             World         —  105568776       2023      100562011       2022   \n",
      "1     United States  Americas   26854599       2023       25462700       2022   \n",
      "2             China      Asia   19373586  [n 1]2023       17963171  [n 3]2022   \n",
      "3             Japan      Asia    4409738       2023        4231141       2022   \n",
      "4           Germany    Europe    4308854       2023        4072192       2022   \n",
      "\n",
      "  United Nations[15]             \n",
      "            Estimate       Year  \n",
      "0           96698005       2021  \n",
      "1           23315081       2021  \n",
      "2           17734131  [n 1]2021  \n",
      "3            4940878       2021  \n",
      "4            4259935       2021  \n"
     ]
    }
   ],
   "source": [
    "# Preview structure of the 4th table (index 3)\n",
    "df = tables[3]\n",
    "print(\"Columns:\", df.columns)\n",
    "print(df.head())"
   ]
  },
  {
   "cell_type": "code",
   "execution_count": 35,
   "id": "fcffafa2",
   "metadata": {},
   "outputs": [
    {
     "name": "stdout",
     "output_type": "stream",
     "text": [
      "Shape: (214, 8)\n"
     ]
    }
   ],
   "source": [
    "# Replace the column headers with column numbers\n",
    "df.columns = range(df.shape[1])\n",
    "print(\"Shape:\", df.shape)  # Check column count"
   ]
  },
  {
   "cell_type": "markdown",
   "id": "b85584be",
   "metadata": {},
   "source": [
    "- Keep only the country name and IMF GDP value columns \n",
    "- Retain rows 1 to 10 to get the top 10 largest economies."
   ]
  },
  {
   "cell_type": "code",
   "execution_count": 36,
   "id": "d63c48ee",
   "metadata": {},
   "outputs": [
    {
     "data": {
      "text/html": [
       "<div>\n",
       "<style scoped>\n",
       "    .dataframe tbody tr th:only-of-type {\n",
       "        vertical-align: middle;\n",
       "    }\n",
       "\n",
       "    .dataframe tbody tr th {\n",
       "        vertical-align: top;\n",
       "    }\n",
       "\n",
       "    .dataframe thead th {\n",
       "        text-align: right;\n",
       "    }\n",
       "</style>\n",
       "<table border=\"1\" class=\"dataframe\">\n",
       "  <thead>\n",
       "    <tr style=\"text-align: right;\">\n",
       "      <th></th>\n",
       "      <th>Country</th>\n",
       "      <th>GDP (Million USD)</th>\n",
       "    </tr>\n",
       "  </thead>\n",
       "  <tbody>\n",
       "    <tr>\n",
       "      <th>1</th>\n",
       "      <td>United States</td>\n",
       "      <td>26854599</td>\n",
       "    </tr>\n",
       "    <tr>\n",
       "      <th>2</th>\n",
       "      <td>China</td>\n",
       "      <td>19373586</td>\n",
       "    </tr>\n",
       "    <tr>\n",
       "      <th>3</th>\n",
       "      <td>Japan</td>\n",
       "      <td>4409738</td>\n",
       "    </tr>\n",
       "    <tr>\n",
       "      <th>4</th>\n",
       "      <td>Germany</td>\n",
       "      <td>4308854</td>\n",
       "    </tr>\n",
       "    <tr>\n",
       "      <th>5</th>\n",
       "      <td>India</td>\n",
       "      <td>3736882</td>\n",
       "    </tr>\n",
       "    <tr>\n",
       "      <th>6</th>\n",
       "      <td>United Kingdom</td>\n",
       "      <td>3158938</td>\n",
       "    </tr>\n",
       "    <tr>\n",
       "      <th>7</th>\n",
       "      <td>France</td>\n",
       "      <td>2923489</td>\n",
       "    </tr>\n",
       "    <tr>\n",
       "      <th>8</th>\n",
       "      <td>Italy</td>\n",
       "      <td>2169745</td>\n",
       "    </tr>\n",
       "    <tr>\n",
       "      <th>9</th>\n",
       "      <td>Canada</td>\n",
       "      <td>2089672</td>\n",
       "    </tr>\n",
       "    <tr>\n",
       "      <th>10</th>\n",
       "      <td>Brazil</td>\n",
       "      <td>2081235</td>\n",
       "    </tr>\n",
       "  </tbody>\n",
       "</table>\n",
       "</div>"
      ],
      "text/plain": [
       "           Country GDP (Million USD)\n",
       "1    United States          26854599\n",
       "2            China          19373586\n",
       "3            Japan           4409738\n",
       "4          Germany           4308854\n",
       "5            India           3736882\n",
       "6   United Kingdom           3158938\n",
       "7           France           2923489\n",
       "8            Italy           2169745\n",
       "9           Canada           2089672\n",
       "10          Brazil           2081235"
      ]
     },
     "execution_count": 36,
     "metadata": {},
     "output_type": "execute_result"
    }
   ],
   "source": [
    "# Retain columns with index 0 and 2 (name of country and value of GDP quoted by IMF)\n",
    "df = df[[0,2]]\n",
    "\n",
    "# Retain the Rows with index 1 to 10, indicating the top 10 economies of the world.\n",
    "df = df.iloc[1:11,:]\n",
    "\n",
    "# Assign column names as \"Country\" and \"GDP (Million USD)\"\n",
    "df.columns = ['Country', 'GDP (Million USD)']\n",
    "\n",
    "# Display result\n",
    "df"
   ]
  },
  {
   "cell_type": "markdown",
   "id": "18bfedbf",
   "metadata": {},
   "source": [
    "- Change GDP values to integers to allow numerical operations.\n",
    "- Convert to Billions: Divide GDP by 1000 to convert from million to billion USD."
   ]
  },
  {
   "cell_type": "code",
   "execution_count": 37,
   "id": "63aedb6b",
   "metadata": {},
   "outputs": [
    {
     "data": {
      "text/html": [
       "<div>\n",
       "<style scoped>\n",
       "    .dataframe tbody tr th:only-of-type {\n",
       "        vertical-align: middle;\n",
       "    }\n",
       "\n",
       "    .dataframe tbody tr th {\n",
       "        vertical-align: top;\n",
       "    }\n",
       "\n",
       "    .dataframe thead th {\n",
       "        text-align: right;\n",
       "    }\n",
       "</style>\n",
       "<table border=\"1\" class=\"dataframe\">\n",
       "  <thead>\n",
       "    <tr style=\"text-align: right;\">\n",
       "      <th></th>\n",
       "      <th>Country</th>\n",
       "      <th>GDP (Billion USD)</th>\n",
       "    </tr>\n",
       "  </thead>\n",
       "  <tbody>\n",
       "    <tr>\n",
       "      <th>1</th>\n",
       "      <td>United States</td>\n",
       "      <td>26854.60</td>\n",
       "    </tr>\n",
       "    <tr>\n",
       "      <th>2</th>\n",
       "      <td>China</td>\n",
       "      <td>19373.59</td>\n",
       "    </tr>\n",
       "    <tr>\n",
       "      <th>3</th>\n",
       "      <td>Japan</td>\n",
       "      <td>4409.74</td>\n",
       "    </tr>\n",
       "    <tr>\n",
       "      <th>4</th>\n",
       "      <td>Germany</td>\n",
       "      <td>4308.85</td>\n",
       "    </tr>\n",
       "    <tr>\n",
       "      <th>5</th>\n",
       "      <td>India</td>\n",
       "      <td>3736.88</td>\n",
       "    </tr>\n",
       "    <tr>\n",
       "      <th>6</th>\n",
       "      <td>United Kingdom</td>\n",
       "      <td>3158.94</td>\n",
       "    </tr>\n",
       "    <tr>\n",
       "      <th>7</th>\n",
       "      <td>France</td>\n",
       "      <td>2923.49</td>\n",
       "    </tr>\n",
       "    <tr>\n",
       "      <th>8</th>\n",
       "      <td>Italy</td>\n",
       "      <td>2169.74</td>\n",
       "    </tr>\n",
       "    <tr>\n",
       "      <th>9</th>\n",
       "      <td>Canada</td>\n",
       "      <td>2089.67</td>\n",
       "    </tr>\n",
       "    <tr>\n",
       "      <th>10</th>\n",
       "      <td>Brazil</td>\n",
       "      <td>2081.24</td>\n",
       "    </tr>\n",
       "  </tbody>\n",
       "</table>\n",
       "</div>"
      ],
      "text/plain": [
       "           Country  GDP (Billion USD)\n",
       "1    United States           26854.60\n",
       "2            China           19373.59\n",
       "3            Japan            4409.74\n",
       "4          Germany            4308.85\n",
       "5            India            3736.88\n",
       "6   United Kingdom            3158.94\n",
       "7           France            2923.49\n",
       "8            Italy            2169.74\n",
       "9           Canada            2089.67\n",
       "10          Brazil            2081.24"
      ]
     },
     "execution_count": 37,
     "metadata": {},
     "output_type": "execute_result"
    }
   ],
   "source": [
    "# Change the data type of the 'GDP (Million USD)' column to integer\n",
    "df['GDP (Million USD)'] = df['GDP (Million USD)'].astype(int)\n",
    "\n",
    "# Convert the GDP value from Million USD to Billion USD\n",
    "df[['GDP (Million USD)']] = df[['GDP (Million USD)']]/1000\n",
    "\n",
    "# Round the value to 2 decimal places\n",
    "df[['GDP (Million USD)']] = np.round(df[['GDP (Million USD)']], 2)\n",
    "\n",
    "# Rename the column header from 'GDP (Million USD)' to 'GDP (Billion USD)'\n",
    "df. rename (columns = {'GDP (Million USD)' : 'GDP (Billion USD)'})"
   ]
  },
  {
   "cell_type": "markdown",
   "id": "eebc278a",
   "metadata": {},
   "source": [
    "- Save the final DataFrame to a CSV file named Largest_economies.csv."
   ]
  },
  {
   "cell_type": "code",
   "execution_count": 38,
   "id": "906446d1",
   "metadata": {},
   "outputs": [],
   "source": [
    "# Load the DataFrame to the CSV file named \"Largest_economies.csv\"\n",
    "df.to_csv('Largest_economies.csv', index=False)"
   ]
  },
  {
   "cell_type": "code",
   "execution_count": null,
   "id": "02d6b07e",
   "metadata": {},
   "outputs": [],
   "source": []
  },
  {
   "cell_type": "code",
   "execution_count": null,
   "id": "3b23dae1",
   "metadata": {},
   "outputs": [],
   "source": []
  },
  {
   "cell_type": "code",
   "execution_count": null,
   "id": "14eda44c",
   "metadata": {},
   "outputs": [],
   "source": []
  }
 ],
 "metadata": {
  "kernelspec": {
   "display_name": "Python 3 (ipykernel)",
   "language": "python",
   "name": "python3"
  },
  "language_info": {
   "codemirror_mode": {
    "name": "ipython",
    "version": 3
   },
   "file_extension": ".py",
   "mimetype": "text/x-python",
   "name": "python",
   "nbconvert_exporter": "python",
   "pygments_lexer": "ipython3",
   "version": "3.10.9"
  }
 },
 "nbformat": 4,
 "nbformat_minor": 5
}
